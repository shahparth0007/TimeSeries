{
 "cells": [
  {
   "cell_type": "code",
   "execution_count": 1,
   "id": "81d56edf",
   "metadata": {},
   "outputs": [
    {
     "name": "stdout",
     "output_type": "stream",
     "text": [
      "Requirement already satisfied: pandas in /Users/parthshah/opt/anaconda3/lib/python3.8/site-packages (1.2.4)\n",
      "Requirement already satisfied: python-dateutil>=2.7.3 in /Users/parthshah/opt/anaconda3/lib/python3.8/site-packages (from pandas) (2.8.1)\n",
      "Requirement already satisfied: pytz>=2017.3 in /Users/parthshah/opt/anaconda3/lib/python3.8/site-packages (from pandas) (2021.1)\n",
      "Requirement already satisfied: numpy>=1.16.5 in /Users/parthshah/opt/anaconda3/lib/python3.8/site-packages (from pandas) (1.20.1)\n",
      "Requirement already satisfied: six>=1.5 in /Users/parthshah/opt/anaconda3/lib/python3.8/site-packages (from python-dateutil>=2.7.3->pandas) (1.15.0)\n",
      "Requirement already satisfied: tslearn in /Users/parthshah/opt/anaconda3/lib/python3.8/site-packages (0.5.2)\n",
      "Requirement already satisfied: joblib in /Users/parthshah/opt/anaconda3/lib/python3.8/site-packages (from tslearn) (1.0.1)\n",
      "Requirement already satisfied: numpy in /Users/parthshah/opt/anaconda3/lib/python3.8/site-packages (from tslearn) (1.20.1)\n",
      "Requirement already satisfied: Cython in /Users/parthshah/opt/anaconda3/lib/python3.8/site-packages (from tslearn) (0.29.23)\n",
      "Requirement already satisfied: scikit-learn in /Users/parthshah/opt/anaconda3/lib/python3.8/site-packages (from tslearn) (0.24.1)\n",
      "Requirement already satisfied: numba in /Users/parthshah/opt/anaconda3/lib/python3.8/site-packages (from tslearn) (0.53.1)\n",
      "Requirement already satisfied: scipy in /Users/parthshah/opt/anaconda3/lib/python3.8/site-packages (from tslearn) (1.6.2)\n",
      "Requirement already satisfied: llvmlite<0.37,>=0.36.0rc1 in /Users/parthshah/opt/anaconda3/lib/python3.8/site-packages (from numba->tslearn) (0.36.0)\n",
      "Requirement already satisfied: setuptools in /Users/parthshah/opt/anaconda3/lib/python3.8/site-packages (from numba->tslearn) (52.0.0.post20210125)\n",
      "Requirement already satisfied: threadpoolctl>=2.0.0 in /Users/parthshah/opt/anaconda3/lib/python3.8/site-packages (from scikit-learn->tslearn) (2.1.0)\n",
      "Requirement already satisfied: prophet in /Users/parthshah/opt/anaconda3/lib/python3.8/site-packages (1.0.1)\n",
      "Requirement already satisfied: Cython>=0.22 in /Users/parthshah/opt/anaconda3/lib/python3.8/site-packages (from prophet) (0.29.23)\n",
      "Requirement already satisfied: cmdstanpy==0.9.68 in /Users/parthshah/opt/anaconda3/lib/python3.8/site-packages (from prophet) (0.9.68)\n",
      "Requirement already satisfied: pystan~=2.19.1.1 in /Users/parthshah/opt/anaconda3/lib/python3.8/site-packages (from prophet) (2.19.1.1)\n",
      "Requirement already satisfied: numpy>=1.15.4 in /Users/parthshah/opt/anaconda3/lib/python3.8/site-packages (from prophet) (1.20.1)\n",
      "Requirement already satisfied: pandas>=1.0.4 in /Users/parthshah/opt/anaconda3/lib/python3.8/site-packages (from prophet) (1.2.4)\n",
      "Requirement already satisfied: matplotlib>=2.0.0 in /Users/parthshah/opt/anaconda3/lib/python3.8/site-packages (from prophet) (3.3.4)\n",
      "Requirement already satisfied: LunarCalendar>=0.0.9 in /Users/parthshah/opt/anaconda3/lib/python3.8/site-packages (from prophet) (0.0.9)\n",
      "Requirement already satisfied: convertdate>=2.1.2 in /Users/parthshah/opt/anaconda3/lib/python3.8/site-packages (from prophet) (2.3.2)\n",
      "Requirement already satisfied: holidays>=0.10.2 in /Users/parthshah/opt/anaconda3/lib/python3.8/site-packages (from prophet) (0.11.3.1)\n",
      "Requirement already satisfied: setuptools-git>=1.2 in /Users/parthshah/opt/anaconda3/lib/python3.8/site-packages (from prophet) (1.2)\n",
      "Requirement already satisfied: python-dateutil>=2.8.0 in /Users/parthshah/opt/anaconda3/lib/python3.8/site-packages (from prophet) (2.8.1)\n",
      "Requirement already satisfied: tqdm>=4.36.1 in /Users/parthshah/opt/anaconda3/lib/python3.8/site-packages (from prophet) (4.59.0)\n",
      "Requirement already satisfied: ujson in /Users/parthshah/opt/anaconda3/lib/python3.8/site-packages (from cmdstanpy==0.9.68->prophet) (4.0.2)\n",
      "Requirement already satisfied: pytz>=2014.10 in /Users/parthshah/opt/anaconda3/lib/python3.8/site-packages (from convertdate>=2.1.2->prophet) (2021.1)\n",
      "Requirement already satisfied: pymeeus<=1,>=0.3.13 in /Users/parthshah/opt/anaconda3/lib/python3.8/site-packages (from convertdate>=2.1.2->prophet) (0.5.11)\n",
      "Requirement already satisfied: korean-lunar-calendar in /Users/parthshah/opt/anaconda3/lib/python3.8/site-packages (from holidays>=0.10.2->prophet) (0.2.1)\n",
      "Requirement already satisfied: hijri-converter in /Users/parthshah/opt/anaconda3/lib/python3.8/site-packages (from holidays>=0.10.2->prophet) (2.2.2)\n",
      "Requirement already satisfied: ephem>=3.7.5.3 in /Users/parthshah/opt/anaconda3/lib/python3.8/site-packages (from LunarCalendar>=0.0.9->prophet) (4.1)\n",
      "Requirement already satisfied: pillow>=6.2.0 in /Users/parthshah/opt/anaconda3/lib/python3.8/site-packages (from matplotlib>=2.0.0->prophet) (8.2.0)\n",
      "Requirement already satisfied: pyparsing!=2.0.4,!=2.1.2,!=2.1.6,>=2.0.3 in /Users/parthshah/opt/anaconda3/lib/python3.8/site-packages (from matplotlib>=2.0.0->prophet) (2.4.7)\n",
      "Requirement already satisfied: kiwisolver>=1.0.1 in /Users/parthshah/opt/anaconda3/lib/python3.8/site-packages (from matplotlib>=2.0.0->prophet) (1.3.1)\n",
      "Requirement already satisfied: cycler>=0.10 in /Users/parthshah/opt/anaconda3/lib/python3.8/site-packages (from matplotlib>=2.0.0->prophet) (0.10.0)\n",
      "Requirement already satisfied: six in /Users/parthshah/opt/anaconda3/lib/python3.8/site-packages (from cycler>=0.10->matplotlib>=2.0.0->prophet) (1.15.0)\n",
      "Requirement already satisfied: pmdarima in /Users/parthshah/opt/anaconda3/lib/python3.8/site-packages (1.8.4)\n",
      "Requirement already satisfied: statsmodels!=0.12.0,>=0.11 in /Users/parthshah/opt/anaconda3/lib/python3.8/site-packages (from pmdarima) (0.12.2)\n",
      "Requirement already satisfied: scipy>=1.3.2 in /Users/parthshah/opt/anaconda3/lib/python3.8/site-packages (from pmdarima) (1.6.2)\n",
      "Requirement already satisfied: Cython!=0.29.18,>=0.29 in /Users/parthshah/opt/anaconda3/lib/python3.8/site-packages (from pmdarima) (0.29.23)\n",
      "Requirement already satisfied: scikit-learn>=0.22 in /Users/parthshah/opt/anaconda3/lib/python3.8/site-packages (from pmdarima) (0.24.1)\n",
      "Requirement already satisfied: numpy>=1.19.3 in /Users/parthshah/opt/anaconda3/lib/python3.8/site-packages (from pmdarima) (1.20.1)\n",
      "Requirement already satisfied: urllib3 in /Users/parthshah/opt/anaconda3/lib/python3.8/site-packages (from pmdarima) (1.26.4)\n",
      "Requirement already satisfied: pandas>=0.19 in /Users/parthshah/opt/anaconda3/lib/python3.8/site-packages (from pmdarima) (1.2.4)\n",
      "Requirement already satisfied: joblib>=0.11 in /Users/parthshah/opt/anaconda3/lib/python3.8/site-packages (from pmdarima) (1.0.1)\n",
      "Requirement already satisfied: setuptools!=50.0.0,>=38.6.0 in /Users/parthshah/opt/anaconda3/lib/python3.8/site-packages (from pmdarima) (52.0.0.post20210125)\n",
      "Requirement already satisfied: python-dateutil>=2.7.3 in /Users/parthshah/opt/anaconda3/lib/python3.8/site-packages (from pandas>=0.19->pmdarima) (2.8.1)\n",
      "Requirement already satisfied: pytz>=2017.3 in /Users/parthshah/opt/anaconda3/lib/python3.8/site-packages (from pandas>=0.19->pmdarima) (2021.1)\n",
      "Requirement already satisfied: six>=1.5 in /Users/parthshah/opt/anaconda3/lib/python3.8/site-packages (from python-dateutil>=2.7.3->pandas>=0.19->pmdarima) (1.15.0)\n",
      "Requirement already satisfied: threadpoolctl>=2.0.0 in /Users/parthshah/opt/anaconda3/lib/python3.8/site-packages (from scikit-learn>=0.22->pmdarima) (2.1.0)\n",
      "Requirement already satisfied: patsy>=0.5 in /Users/parthshah/opt/anaconda3/lib/python3.8/site-packages (from statsmodels!=0.12.0,>=0.11->pmdarima) (0.5.1)\n"
     ]
    }
   ],
   "source": [
    "#Installations\n",
    "!pip install pandas\n",
    "!pip install tslearn\n",
    "!pip install prophet\n",
    "!pip install pmdarima"
   ]
  },
  {
   "cell_type": "code",
   "execution_count": 2,
   "id": "8866485f",
   "metadata": {},
   "outputs": [
    {
     "name": "stderr",
     "output_type": "stream",
     "text": [
      "Importing plotly failed. Interactive plots will not work.\n"
     ]
    }
   ],
   "source": [
    "from prophet import Prophet "
   ]
  },
  {
   "cell_type": "code",
   "execution_count": 4,
   "id": "24ddc197",
   "metadata": {},
   "outputs": [
    {
     "name": "stdout",
     "output_type": "stream",
     "text": [
      "Started\n",
      "Extraction_started\n",
      "Flags data shape: (2557, 24)\n",
      "Sales data shape: (12798, 3)\n",
      "Min_data 2014-04-01 00:00:00\n",
      "Max_data 2020-01-31 00:00:00\n",
      "Starting forecast for CATPB:  North\n",
      "Starting ARIMA\n"
     ]
    },
    {
     "name": "stderr",
     "output_type": "stream",
     "text": [
      "INFO:fbprophet:Disabling weekly seasonality. Run prophet with weekly_seasonality=True to override this.\n"
     ]
    },
    {
     "name": "stdout",
     "output_type": "stream",
     "text": [
      "               Algorithm      MAPE           mse\n",
      "0                  ARIMA  9.081497  1.136941e+14\n",
      "1                 ARIMAX  3.272152  1.295571e+14\n",
      "3  (MM)TSLMwFlags(Trend)  6.969304  5.308654e+13\n",
      "4      Prophet(seas-Add)  8.563436  9.185828e+13\n",
      "Best algorithm for forecasting  North  is  ARIMAX , with error:  129557090640415.12\n",
      "Starting forecast for CATPB:  West\n",
      "Starting ARIMA\n"
     ]
    },
    {
     "name": "stderr",
     "output_type": "stream",
     "text": [
      "INFO:fbprophet:Disabling weekly seasonality. Run prophet with weekly_seasonality=True to override this.\n"
     ]
    },
    {
     "name": "stdout",
     "output_type": "stream",
     "text": [
      "               Algorithm      MAPE           mse\n",
      "0                  ARIMA  3.490895  1.133480e+14\n",
      "1                 ARIMAX  4.554074  2.266851e+14\n",
      "3  (MM)TSLMwFlags(Trend)  9.898147  1.850241e+14\n",
      "4      Prophet(seas-Add)  4.449904  6.925611e+13\n",
      "Best algorithm for forecasting  West  is  ARIMA , with error:  113347961962831.03\n",
      "Starting forecast for CATPB:  Overall\n",
      "Starting ARIMA\n"
     ]
    },
    {
     "name": "stderr",
     "output_type": "stream",
     "text": [
      "INFO:fbprophet:Disabling weekly seasonality. Run prophet with weekly_seasonality=True to override this.\n"
     ]
    },
    {
     "name": "stdout",
     "output_type": "stream",
     "text": [
      "               Algorithm      MAPE           mse\n",
      "0                  ARIMA  4.321273  1.631805e+15\n",
      "1                 ARIMAX  8.304755  7.861075e+15\n",
      "3  (MM)TSLMwFlags(Trend)  7.021819  1.740425e+15\n",
      "4      Prophet(seas-Add)  8.437991  2.402612e+15\n",
      "Best algorithm for forecasting  Overall  is  ARIMA , with error:  1631804658835647.8\n",
      "Starting forecast for CATPB:  South 1\n",
      "Starting ARIMA\n"
     ]
    },
    {
     "name": "stderr",
     "output_type": "stream",
     "text": [
      "INFO:fbprophet:Disabling weekly seasonality. Run prophet with weekly_seasonality=True to override this.\n"
     ]
    },
    {
     "name": "stdout",
     "output_type": "stream",
     "text": [
      "                    Algorithm       MAPE           mse\n",
      "0                       ARIMA   0.009750  4.874269e+13\n",
      "1                      ARIMAX  27.089156  1.302448e+15\n",
      "3  (AM)TSLMwFlags(Trend+Seas)   6.631175  3.833521e+13\n",
      "4           Prophet(seas-Add)   2.351143  1.715117e+13\n",
      "Best algorithm for forecasting  South 1  is  ARIMA , with error:  48742690459708.14\n",
      "Starting forecast for CATPB:  South 2\n",
      "Starting ARIMA\n"
     ]
    },
    {
     "name": "stderr",
     "output_type": "stream",
     "text": [
      "INFO:fbprophet:Disabling weekly seasonality. Run prophet with weekly_seasonality=True to override this.\n"
     ]
    },
    {
     "name": "stdout",
     "output_type": "stream",
     "text": [
      "               Algorithm       MAPE           mse\n",
      "0                  ARIMA   1.595595  6.184892e+13\n",
      "1                 ARIMAX  15.587001  1.116891e+15\n",
      "3  (AM)TSLMwFlags(Trend)   8.671353  1.286034e+14\n",
      "4      Prophet(seas-Add)   2.403337  3.066041e+13\n",
      "Best algorithm for forecasting  South 2  is  ARIMA , with error:  61848923434701.414\n",
      "Starting forecast for CATPB:  East\n",
      "Starting ARIMA\n"
     ]
    },
    {
     "name": "stderr",
     "output_type": "stream",
     "text": [
      "INFO:fbprophet:Disabling weekly seasonality. Run prophet with weekly_seasonality=True to override this.\n"
     ]
    },
    {
     "name": "stdout",
     "output_type": "stream",
     "text": [
      "               Algorithm       MAPE           mse\n",
      "0                  ARIMA   8.451941  1.408060e+14\n",
      "1                 ARIMAX  12.259789  5.171499e+14\n",
      "3  (AM)TSLMwFlags(Trend)   4.116091  2.834627e+13\n",
      "4      Prophet(seas-Add)   4.460634  5.735364e+13\n",
      "Best algorithm for forecasting  East  is  (AM)TSLMwFlags(Trend) , with error:  28346270352453.375\n"
     ]
    }
   ],
   "source": [
    "forecast_1 = Starting.forecast(category = 'J', n=3)"
   ]
  },
  {
   "cell_type": "code",
   "execution_count": 6,
   "id": "7aef34c6",
   "metadata": {},
   "outputs": [],
   "source": [
    "## Outside libraries\n",
    "import warnings\n",
    "warnings.filterwarnings('ignore', 'statsmodels.tsa.arima_model.ARMA',\n",
    "                        FutureWarning)\n",
    "import pandas as pd\n",
    "import os\n",
    "import pandas as pd \n",
    "import numpy as np \n",
    "import itertools\n",
    "from sklearn.metrics import mean_squared_error as mse"
   ]
  },
  {
   "cell_type": "code",
   "execution_count": 7,
   "id": "0e339220",
   "metadata": {},
   "outputs": [],
   "source": [
    "#Custom Functions\n",
    "import config\n",
    "import Starting\n",
    "import Forecast_01\n",
    "import trainandtest\n",
    "import transform\n",
    "import AlgoArima\n",
    "import HoltWinters\n",
    "import AlgoProphet\n",
    "import AlgoSARIMA"
   ]
  },
  {
   "cell_type": "code",
   "execution_count": 8,
   "id": "cea68aaf",
   "metadata": {},
   "outputs": [
    {
     "data": {
      "text/plain": [
       "'Sales_Data.xlsx'"
      ]
     },
     "execution_count": 8,
     "metadata": {},
     "output_type": "execute_result"
    }
   ],
   "source": [
    "category = 'J'\n",
    "config.DICT_JEW_PATH[category]"
   ]
  },
  {
   "cell_type": "code",
   "execution_count": 12,
   "id": "7958e026",
   "metadata": {},
   "outputs": [
    {
     "data": {
      "text/html": [
       "<div>\n",
       "<style scoped>\n",
       "    .dataframe tbody tr th:only-of-type {\n",
       "        vertical-align: middle;\n",
       "    }\n",
       "\n",
       "    .dataframe tbody tr th {\n",
       "        vertical-align: top;\n",
       "    }\n",
       "\n",
       "    .dataframe thead th {\n",
       "        text-align: right;\n",
       "    }\n",
       "</style>\n",
       "<table border=\"1\" class=\"dataframe\">\n",
       "  <thead>\n",
       "    <tr style=\"text-align: right;\">\n",
       "      <th></th>\n",
       "      <th>DATE</th>\n",
       "      <th>ID</th>\n",
       "      <th>SALES</th>\n",
       "    </tr>\n",
       "  </thead>\n",
       "  <tbody>\n",
       "    <tr>\n",
       "      <th>0</th>\n",
       "      <td>2014-04-01</td>\n",
       "      <td>East</td>\n",
       "      <td>913268.88</td>\n",
       "    </tr>\n",
       "    <tr>\n",
       "      <th>1</th>\n",
       "      <td>2014-04-02</td>\n",
       "      <td>East</td>\n",
       "      <td>962291.76</td>\n",
       "    </tr>\n",
       "    <tr>\n",
       "      <th>2</th>\n",
       "      <td>2014-04-03</td>\n",
       "      <td>East</td>\n",
       "      <td>982599.00</td>\n",
       "    </tr>\n",
       "    <tr>\n",
       "      <th>3</th>\n",
       "      <td>2014-04-04</td>\n",
       "      <td>East</td>\n",
       "      <td>1078800.10</td>\n",
       "    </tr>\n",
       "    <tr>\n",
       "      <th>4</th>\n",
       "      <td>2014-04-05</td>\n",
       "      <td>East</td>\n",
       "      <td>1735866.90</td>\n",
       "    </tr>\n",
       "  </tbody>\n",
       "</table>\n",
       "</div>"
      ],
      "text/plain": [
       "        DATE    ID       SALES\n",
       "0 2014-04-01  East   913268.88\n",
       "1 2014-04-02  East   962291.76\n",
       "2 2014-04-03  East   982599.00\n",
       "3 2014-04-04  East  1078800.10\n",
       "4 2014-04-05  East  1735866.90"
      ]
     },
     "execution_count": 12,
     "metadata": {},
     "output_type": "execute_result"
    }
   ],
   "source": [
    "df = pd.read_excel('Sales_Data.xlsx')\n",
    "df.head()\n",
    "df = read_csv('daily-minimum-temperatures.csv', header=0, index_col=0, parse_dates=True, squeeze=True)"
   ]
  },
  {
   "cell_type": "code",
   "execution_count": 8,
   "id": "9877663e",
   "metadata": {},
   "outputs": [
    {
     "name": "stdout",
     "output_type": "stream",
     "text": [
      "Started\n",
      "Extraction_started\n",
      "Flags data shape: (2557, 24)\n",
      "Sales data shape: (12798, 3)\n",
      "Min_data 2014-04-01 00:00:00\n",
      "Max_data 2020-01-31 00:00:00\n",
      "Starting forecast for CATPB:  North\n",
      "Starting ARIMA\n",
      "MAPE for HoltWinters: 2.300417551034153\n"
     ]
    },
    {
     "name": "stderr",
     "output_type": "stream",
     "text": [
      "INFO:fbprophet:Disabling weekly seasonality. Run prophet with weekly_seasonality=True to override this.\n"
     ]
    },
    {
     "name": "stdout",
     "output_type": "stream",
     "text": [
      "Best algorithm for forecasting  North  is  HOLT-WINTERS-AAD , with error:  2.300417551034153\n",
      "Starting forecast for CATPB:  South 2\n",
      "Starting ARIMA\n",
      "MAPE for HoltWinters: 1.0920835680469432\n"
     ]
    },
    {
     "name": "stderr",
     "output_type": "stream",
     "text": [
      "INFO:fbprophet:Disabling weekly seasonality. Run prophet with weekly_seasonality=True to override this.\n"
     ]
    },
    {
     "name": "stdout",
     "output_type": "stream",
     "text": [
      "Best algorithm for forecasting  South 2  is  HOLT-WINTERS-AANd , with error:  1.0920835680469432\n",
      "Starting forecast for CATPB:  Overall\n",
      "Starting ARIMA\n",
      "MAPE for HoltWinters: 1.487306728416916\n"
     ]
    },
    {
     "name": "stderr",
     "output_type": "stream",
     "text": [
      "INFO:fbprophet:Disabling weekly seasonality. Run prophet with weekly_seasonality=True to override this.\n"
     ]
    },
    {
     "name": "stdout",
     "output_type": "stream",
     "text": [
      "Best algorithm for forecasting  Overall  is  HOLT-WINTERS-AAD , with error:  1.487306728416916\n",
      "Starting forecast for CATPB:  West\n",
      "Starting ARIMA\n",
      "MAPE for HoltWinters: 8.450106331462367\n"
     ]
    },
    {
     "name": "stderr",
     "output_type": "stream",
     "text": [
      "INFO:fbprophet:Disabling weekly seasonality. Run prophet with weekly_seasonality=True to override this.\n"
     ]
    },
    {
     "name": "stdout",
     "output_type": "stream",
     "text": [
      "Best algorithm for forecasting  West  is  ARIMA , with error:  3.4908946001276835\n",
      "Starting forecast for CATPB:  South 1\n",
      "Starting ARIMA\n",
      "MAPE for HoltWinters: 2.009314865384655\n"
     ]
    },
    {
     "name": "stderr",
     "output_type": "stream",
     "text": [
      "INFO:fbprophet:Disabling weekly seasonality. Run prophet with weekly_seasonality=True to override this.\n"
     ]
    },
    {
     "name": "stdout",
     "output_type": "stream",
     "text": [
      "Best algorithm for forecasting  South 1  is  ARIMA , with error:  0.009749618989201717\n",
      "Starting forecast for CATPB:  East\n",
      "Starting ARIMA\n",
      "MAPE for HoltWinters: 0.4241007409747716\n"
     ]
    },
    {
     "name": "stderr",
     "output_type": "stream",
     "text": [
      "INFO:fbprophet:Disabling weekly seasonality. Run prophet with weekly_seasonality=True to override this.\n"
     ]
    },
    {
     "name": "stdout",
     "output_type": "stream",
     "text": [
      "Best algorithm for forecasting  East  is  HOLT-WINTERS-AMNd , with error:  0.4241007409747716\n"
     ]
    }
   ],
   "source": [
    "sales, flags = Forecast_01.dataExtraction(category, level,salesFromPath,\n",
    "                                                    flagsFromPath)\n",
    "unique=set(sales[\"ID\"])\n",
    "algotable = pd.DataFrame()\n",
    "forecast = pd.Series()\n",
    "\n",
    "def MAPE(y_true, y_pred): \n",
    "    y_true, y_pred = np.array(y_true), np.array(y_pred)\n",
    "    return np.mean(np.abs((y_true.sum() - y_pred.sum()) / y_true.sum())) * 100\n",
    "\n",
    "\n",
    "\n",
    "#Looping over every individual item in col \"ID\"\n",
    "for unit in unique:\n",
    "    #Subsetting sales and flags data for each unique item in \"ID\" column of\n",
    "    #salesdata df for training and forecasting \n",
    "    print(\"Starting forecast for CATPB: \",unit)\n",
    "    salesdata = pd.Series(sales.loc[sales[\"ID\"]==unit,\"SALES\"])\n",
    "    startdate = salesdata.index[0]\n",
    "    #startdate = salesdata[np.min(salesdata):].index[0]\n",
    "    salesdata = salesdata[startdate:]\n",
    "    flagsdata = flags[startdate:]  \n",
    "\n",
    "    #Grouping data to a weekly level for training/forecasting\n",
    "    if frequency==\"W\":\n",
    "        salesdata = salesdata.resample('W').sum()\n",
    "        flagsdata = flagsdata.drop('WEEKEND_FLAG',axis=1,errors='ignore')\n",
    "        flagsdata = flagsdata.resample('W').mean()\n",
    "\n",
    "    #Grouping data to a monthly level for training/forecasting\n",
    "    if frequency==\"M\":\n",
    "        salesdata = salesdata.resample('M').sum()\n",
    "        flagsdata = flagsdata.drop([\"Start of Month Flag\",\"MONTHEND_FLAG\",\n",
    "                                    \"End of Month Flag\"],axis=1,errors='ignore')\n",
    "        flagsdata = flagsdata.resample('M').mean()        \n",
    "\n",
    "    flagsdf = flagsdata.iloc[len(salesdata):len(salesdata)+n]   \n",
    "    flagsdata = flagsdata.iloc[:len(salesdata)]        \n",
    "\n",
    "    ######### TRAIN-TEST SPLIT #########\n",
    "    trainsales, testsales = trainandtest.traintestsplit(salesdata)\n",
    "    trainflags, testflags = trainandtest.traintestsplit(flagsdata)\n",
    "\n",
    "    ############################# MODEL TRAINING ############################# \n",
    "    #creating dataframe for storing mse for models \n",
    "    errortable = pd.DataFrame()\n",
    "\n",
    "\n",
    "    ########## ARIMA ##########\n",
    "\n",
    "    print(\"Starting ARIMA\")\n",
    "\n",
    "    try:\n",
    "        #Transforming data to stationarize it \n",
    "        transformeddata = transform.transform(trainsales,confidencelevel,\n",
    "                                              transformation)\n",
    "        #Passing scaled data to the arimax model \n",
    "        scaledforecast = AlgoArima.arimax(transformeddata[0],len(testsales))\n",
    "        #Inverse scaling the scaled forecasts \n",
    "        arimaforecasts = transform.inverse(scaledforecast,transformeddata)\n",
    "        error = mse(arimaforecasts ,testsales)\n",
    "        error2 = MAPE(testsales,arimaforecasts)\n",
    "        #Appending mse and MAPE to error table \n",
    "        errortable = errortable.append({'Algorithm' : 'ARIMA', 'mse' : error, \n",
    "                                    \"MAPE\":error2},ignore_index=True)\n",
    "        del scaledforecast, arimaforecasts\n",
    "    except: \n",
    "        print(\"Arima__ An error occured while running Arima\")\n",
    "        errortable = errortable.append({'Algorithm':'ARIMA','mse':np.nan},\n",
    "                                            ignore_index=True)\n",
    "\n",
    "\n",
    "    try:\n",
    "        trainflags1 = trainflags.iloc[-len(transformeddata[0]):,:]\n",
    "        transformeddata[0].index = trainflags1.index\n",
    "        scaledforecast = AlgoArima.arimax(transformeddata[0],len(testsales),\n",
    "                                     trainFlags=trainflags1,forecastFlags=testflags)\n",
    "        arimaxforecasts = transform.inverse(scaledforecast,transformeddata)\n",
    "        error = mse(arimaxforecasts ,testsales)\n",
    "        error2 = MAPE(testsales,arimaxforecasts)\n",
    "        errortable = errortable.append({'Algorithm' : 'ARIMAX', 'mse' : error,\n",
    "                                        \"MAPE\":error2},ignore_index=True)\n",
    "        del transformeddata, scaledforecast, arimaxforecasts, trainflags1\n",
    "    except: \n",
    "        print(\"Arimax__ An error occured while running Arimax\")\n",
    "        errortable = errortable.append({'Algorithm':'ARIMAX','mse':np.nan},\n",
    "                                            ignore_index=True)  \n",
    "\n",
    "    try:\n",
    "        holtMSE,algo = HoltWinters.HOLTWINTER(trainsales,testsales,category,\n",
    "                                                    frequency)\n",
    "        print(\"MAPE for HoltWinters:\",holtMSE)\n",
    "        if algo == \"AANd\":\n",
    "            #AANd = Additive trend , Additive seasonality , No Damp\n",
    "            errortable = errortable.append({'Algorithm' : 'HOLT-WINTERS-AANd', \n",
    "                                            \"MAPE\":holtMSE,'mse' : holtMSE},ignore_index=True)                                     \n",
    "\n",
    "        elif algo == \"AMNd\":    \n",
    "            #AANd = Additive trend , Multiplicative seasonality , No Damp\n",
    "            errortable = errortable.append({'Algorithm' : 'HOLT-WINTERS-AMNd', \n",
    "                                            \"MAPE\":holtMSE,'mse' : holtMSE},ignore_index=True)                                 \n",
    "        elif algo == \"AAD\":\n",
    "            #AAD = Additive trend , Additive seasonality , With Damp\n",
    "            errortable = errortable.append({'Algorithm' : 'HOLT-WINTERS-AAD', \n",
    "                                            \"MAPE\":holtMSE, 'mse' : holtMSE},ignore_index=True)                \n",
    "        elif algo == \"AMD\":\n",
    "            #AMD = Additive trend , Multiplicative seasonality , No Damp\n",
    "            errortable = errortable.append({'Algorithm' : 'HOLT-WINTERS-AMD', \n",
    "                                            \"MAPE\":holtMSE, 'mse' : holtMSE},ignore_index=True)\n",
    "            \n",
    "    except:\n",
    "        print(\"HoltWinter__ An error occured while running HoltWinter\")\n",
    "        errortable = errortable.append({'Algorithm':'HOLT-WINTERS','mse':np.nan},\n",
    "                                            ignore_index=True) \n",
    "    error, pred = AlgoSARIMA.sarimax(salesdata,len(testsales),f=frequency,only_error=True)\n",
    "    error2 = MAPE(testsales,pred)\n",
    "    errortable = errortable.append({'Algorithm' : \"Sarima\", 'mse' : MSE,  \n",
    "                                        'MAPE' : error2},ignore_index=True)\n",
    "    \n",
    "    error, pred = AlgoSARIMA.sarimax(salesdata,len(testsales),Flags=flagsdata,f=frequency,only_error=True)\n",
    "    error2 = MAPE(testsales,pred)\n",
    "    errortable = errortable.append({'Algorithm' : \"Sarimax\", 'mse' : MSE,  \n",
    "                                        'MAPE' : error2},ignore_index=True)\n",
    "    \n",
    "\n",
    "    alg,MSE,mape = AlgoArima.allcombTSLM(trainsales,testsales,frequency,n,trainflags,testflags)\n",
    "    errortable = errortable.append({'Algorithm' : alg, 'mse' : MSE,  \n",
    "                                        'MAPE' : mape},ignore_index=True) \n",
    "\n",
    "        ########### PROPHET WITHOUT FLAGS ###########\n",
    "    ### ADDITIVE SEASONALITY ###\n",
    "    try:\n",
    "        propForecast = AlgoProphet.prophet(trainsales,n=len(testsales),\n",
    "                                       f=frequency)\n",
    "        error = mse(propForecast,testsales)\n",
    "        error2 = MAPE(testsales,propForecast)\n",
    "        errortable = errortable.append({'Algorithm' : 'Prophet(seas-Add)', \n",
    "                                        'mse' : error,\"MAPE\":error2},\n",
    "                                       ignore_index=True)            \n",
    "    except:\n",
    "        raise\n",
    "        print(\"Prophet__ An error occured while running Prophet(seas-Add)\")\n",
    "        errortable = errortable.append({'Algorithm' : 'Prophet(seas-Add)', \n",
    "                                        'mse' : np.nan},ignore_index=True)\n",
    "        \n",
    "\n",
    "    errortable.dropna(inplace=True)\n",
    "    algo = errortable.loc[(errortable['MAPE'].idxmin())]\n",
    "    print(\"Best algorithm for forecasting \",unit,\" is \",algo.Algorithm, \", with error: \",algo.MAPE)\n",
    "    algotable = algotable.append({\"ID\":unit,\"algo rithm\":algo.Algorithm,\"MAPE\":algo.MAPE},ignore_index=True)"
   ]
  },
  {
   "cell_type": "code",
   "execution_count": 4,
   "id": "eeda9950",
   "metadata": {},
   "outputs": [],
   "source": [
    "category = 'J'\n",
    "n=3\n",
    "level=\"ID\"\n",
    "frequency=\"M\"\n",
    "n=1\n",
    "salesFromPath=True\n",
    "flagsFromPath=True\n",
    "transformation=\"\"\n",
    "confidencelevel=0.95\n",
    "\n"
   ]
  },
  {
   "cell_type": "code",
   "execution_count": 12,
   "id": "340caa8b",
   "metadata": {},
   "outputs": [],
   "source": [
    "y_true, y_pred = np.array(trainsales), np.array(propForecast)"
   ]
  },
  {
   "cell_type": "code",
   "execution_count": 9,
   "id": "449c115d",
   "metadata": {},
   "outputs": [],
   "source": [
    "error, pred = AlgoSARIMA.sarimax(salesdata,len(testsales),f=frequency,only_error=True)"
   ]
  },
  {
   "cell_type": "code",
   "execution_count": 12,
   "id": "4161f718",
   "metadata": {},
   "outputs": [],
   "source": [
    "error, pred = AlgoSARIMA.sarimax(salesdata,len(testsales),f=frequency,\n",
    "                                                   Flags=flagsdata, only_error=True)"
   ]
  },
  {
   "cell_type": "code",
   "execution_count": 13,
   "id": "c4449c93",
   "metadata": {},
   "outputs": [
    {
     "data": {
      "text/plain": [
       "0.26970518839771684"
      ]
     },
     "execution_count": 13,
     "metadata": {},
     "output_type": "execute_result"
    }
   ],
   "source": [
    "MAPE(testsales,pred)"
   ]
  },
  {
   "cell_type": "code",
   "execution_count": 17,
   "id": "89ff010d",
   "metadata": {},
   "outputs": [
    {
     "data": {
      "text/plain": [
       "3021279435.2099924"
      ]
     },
     "execution_count": 17,
     "metadata": {},
     "output_type": "execute_result"
    }
   ],
   "source": [
    "np.mean(((y_true.sum() - y_pred.sum())*2))"
   ]
  },
  {
   "cell_type": "code",
   "execution_count": 18,
   "id": "1dad1095",
   "metadata": {},
   "outputs": [
    {
     "data": {
      "text/plain": [
       "40.81267033307735"
      ]
     },
     "execution_count": 18,
     "metadata": {},
     "output_type": "execute_result"
    }
   ],
   "source": [
    "MAPE(y_true,y_pred)"
   ]
  },
  {
   "cell_type": "code",
   "execution_count": 7,
   "id": "c8290de2",
   "metadata": {},
   "outputs": [],
   "source": [
    "holtMSE,algo = HoltWinters.HOLTWINTER(trainsales,testsales,category,\n",
    "                                                    frequency)"
   ]
  },
  {
   "cell_type": "code",
   "execution_count": 8,
   "id": "25f9145d",
   "metadata": {},
   "outputs": [
    {
     "data": {
      "text/plain": [
       "8.450106331462367"
      ]
     },
     "execution_count": 8,
     "metadata": {},
     "output_type": "execute_result"
    }
   ],
   "source": [
    "holtMSE"
   ]
  },
  {
   "cell_type": "code",
   "execution_count": null,
   "id": "8ae159b3",
   "metadata": {},
   "outputs": [],
   "source": []
  }
 ],
 "metadata": {
  "kernelspec": {
   "display_name": "Python 3",
   "language": "python",
   "name": "python3"
  },
  "language_info": {
   "codemirror_mode": {
    "name": "ipython",
    "version": 3
   },
   "file_extension": ".py",
   "mimetype": "text/x-python",
   "name": "python",
   "nbconvert_exporter": "python",
   "pygments_lexer": "ipython3",
   "version": "3.8.8"
  }
 },
 "nbformat": 4,
 "nbformat_minor": 5
}
